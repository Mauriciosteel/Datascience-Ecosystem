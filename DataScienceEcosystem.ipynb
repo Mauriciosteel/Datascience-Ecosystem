{
 "cells": [
  {
   "cell_type": "markdown",
   "id": "83ade03a-6e86-49e8-84b7-dee22818561a",
   "metadata": {},
   "source": [
    "# Data Science Tools and Ecosystem"
   ]
  },
  {
   "cell_type": "markdown",
   "id": "d42f0f59-94f9-469d-86a5-45d3d40bada4",
   "metadata": {},
   "source": [
    "This notebook summarized the Tools and Ecosystem of Data Science, popular languages and libraries"
   ]
  },
  {
   "cell_type": "markdown",
   "id": "ebf34f73-ff48-471d-983a-0461c3dfe433",
   "metadata": {},
   "source": [
    "**Objetives**\n",
    "- List Popular Languajes for Data Science.\n",
    "- Commonly used libraries by Data Scientist.\n",
    "- Data Science Tools.\n",
    "- Examples of evaluating arithmetic expressions in Python"
   ]
  },
  {
   "cell_type": "markdown",
   "id": "be2351a6-3812-4f8f-90db-d361f0a75dc0",
   "metadata": {},
   "source": [
    "Some of the popular languages  that Data Scientists use are:\n",
    "1. Python\n",
    "2. R\n",
    "3. SQL\n",
    "4. Java"
   ]
  },
  {
   "cell_type": "markdown",
   "id": "c37bf69f-d534-4c16-bb6f-572e2241a6b9",
   "metadata": {},
   "source": [
    "Some of the commonly used libraries by Data Scientists include:\n",
    "- Pandas\n",
    "- NumPy\n",
    "- SciPy\n",
    "- Matplotlib"
   ]
  },
  {
   "cell_type": "markdown",
   "id": "40c83959-686a-4c00-93b7-d1fef6996b7b",
   "metadata": {},
   "source": [
    "| Data Science Tools |\n",
    "| ------------------ |\n",
    "| Python |\n",
    "| Anaconda |\n",
    "| Apache Spark |"
   ]
  },
  {
   "cell_type": "markdown",
   "id": "668b7e19-c5b1-4cea-8ecb-ae2dccb4ad0f",
   "metadata": {},
   "source": [
    "### Below are a few examples of evaluating arithmetic expressions in Python"
   ]
  },
  {
   "cell_type": "code",
   "execution_count": 1,
   "id": "7e636d98-fc3b-4bd7-a242-d51a7f4fd694",
   "metadata": {},
   "outputs": [
    {
     "data": {
      "text/plain": [
       "17"
      ]
     },
     "execution_count": 1,
     "metadata": {},
     "output_type": "execute_result"
    }
   ],
   "source": [
    "# this a simple arithmetic expression to multiply then add integers\n",
    "(3*4)+5"
   ]
  },
  {
   "cell_type": "code",
   "execution_count": 2,
   "id": "6b6acd22-ce09-4058-9c57-b2af0a82ae0b",
   "metadata": {},
   "outputs": [
    {
     "data": {
      "text/plain": [
       "3.3333333333333335"
      ]
     },
     "execution_count": 2,
     "metadata": {},
     "output_type": "execute_result"
    }
   ],
   "source": [
    "# this will convert 200 minutes to hours by diving by 60\n",
    "200/60\n"
   ]
  },
  {
   "cell_type": "markdown",
   "id": "21f07f9f-349a-4f3b-943e-0304cd06dad5",
   "metadata": {},
   "source": [
    "## Author\n",
    "Mauricio Muñoz Meline"
   ]
  }
 ],
 "metadata": {
  "kernelspec": {
   "display_name": "Python 3 (ipykernel)",
   "language": "python",
   "name": "python3"
  },
  "language_info": {
   "codemirror_mode": {
    "name": "ipython",
    "version": 3
   },
   "file_extension": ".py",
   "mimetype": "text/x-python",
   "name": "python",
   "nbconvert_exporter": "python",
   "pygments_lexer": "ipython3",
   "version": "3.11.9"
  }
 },
 "nbformat": 4,
 "nbformat_minor": 5
}
